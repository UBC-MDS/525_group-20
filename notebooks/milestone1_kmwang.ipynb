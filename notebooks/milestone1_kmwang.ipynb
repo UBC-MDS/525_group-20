{
 "cells": [
  {
   "cell_type": "code",
   "execution_count": 1,
   "id": "aerial-detector",
   "metadata": {},
   "outputs": [],
   "source": [
    "import re\n",
    "import os\n",
    "import glob\n",
    "import zipfile\n",
    "import requests\n",
    "from urllib.request import urlretrieve\n",
    "import json\n",
    "import pandas as pd\n",
    "import dask.dataframe as dd"
   ]
  },
  {
   "cell_type": "code",
   "execution_count": 2,
   "id": "filled-equality",
   "metadata": {},
   "outputs": [],
   "source": [
    "%load_ext rpy2.ipython\n",
    "%load_ext memory_profiler"
   ]
  },
  {
   "cell_type": "markdown",
   "id": "through-native",
   "metadata": {},
   "source": [
    "## Download the data "
   ]
  },
  {
   "cell_type": "code",
   "execution_count": 2,
   "id": "flush-mineral",
   "metadata": {},
   "outputs": [],
   "source": [
    "article_id = 14096681\n",
    "url = f\"https://api.figshare.com/v2/articles/{article_id}\"\n",
    "headers = {\"Content-Type\": \"application/json\"}\n",
    "output_directory = \"../data/\" # This notebook should be ran mannually\n",
    "\n",
    "response = requests.request(\"GET\", url, headers=headers)\n",
    "data = json.loads(response.text)\n",
    "files = data[\"files\"]\n",
    "\n",
    "for file in files:\n",
    "    if file[\"name\"] == \"data.zip\":\n",
    "        os.makedirs(output_directory, exist_ok=True)\n",
    "        urlretrieve(file[\"download_url\"], output_directory + file[\"name\"])\n",
    "\n",
    "with zipfile.ZipFile(os.path.join(output_directory, \"data.zip\"), 'r') as f:\n",
    "    f.extractall(output_directory)"
   ]
  },
  {
   "cell_type": "code",
   "execution_count": 3,
   "id": "extended-overview",
   "metadata": {},
   "outputs": [],
   "source": [
    "output_directory = \"../data/\" # This notebook should be ran mannually"
   ]
  },
  {
   "cell_type": "markdown",
   "id": "given-tampa",
   "metadata": {},
   "source": [
    "## Combine the data"
   ]
  },
  {
   "cell_type": "code",
   "execution_count": 5,
   "id": "unknown-pennsylvania",
   "metadata": {},
   "outputs": [
    {
     "name": "stdout",
     "output_type": "stream",
     "text": [
      "peak memory: 173.79 MiB, increment: 8.83 MiB\n",
      "CPU times: user 631 ms, sys: 62.1 ms, total: 693 ms\n",
      "Wall time: 817 ms\n"
     ]
    }
   ],
   "source": [
    "%%time\n",
    "%%memit\n",
    "\n",
    "combined_data = dd.from_pandas(pd.DataFrame({'time': [], \"lat_min\": [], \"lat_max\": [], \"lon_min\": [], \"lon_max\": [], \"rain (mm/day)\": [], \"model\": []}), npartitions=1)\n",
    "\n",
    "for filename in os.listdir(output_directory):\n",
    "    if filename[-4: ] == \".csv\":\n",
    "        model = filename.partition('_daily_rainfall')[0]\n",
    "        ddf = dd.read_csv(output_directory + filename, assume_missing=True)\n",
    "        if len(ddf.columns) == 2:\n",
    "            ddf['lat_min'] = None\n",
    "            ddf['lat_max'] = None\n",
    "            ddf['lon_min'] = None\n",
    "            ddf['lon_max'] = None\n",
    "            ddf = ddf[['time', 'lat_min', 'lat_max', 'lon_min', 'lon_max', 'rain (mm/day)']]\n",
    "        ddf[\"model\"] = model\n",
    "        combined_data = dd.concat([combined_data, ddf], axis=0)"
   ]
  },
  {
   "cell_type": "code",
   "execution_count": 6,
   "id": "seventh-patent",
   "metadata": {},
   "outputs": [
    {
     "name": "stdout",
     "output_type": "stream",
     "text": [
      "peak memory: 3246.38 MiB, increment: 3074.11 MiB\n",
      "CPU times: user 13min 40s, sys: 1min 6s, total: 14min 47s\n",
      "Wall time: 12min 48s\n"
     ]
    }
   ],
   "source": [
    "%%time\n",
    "%%memit\n",
    "\n",
    "combined_data.to_csv(output_directory + \"combined_data.csv\")"
   ]
  },
  {
   "cell_type": "markdown",
   "id": "laden-passion",
   "metadata": {},
   "source": [
    "## EDA in python"
   ]
  },
  {
   "cell_type": "code",
   "execution_count": 7,
   "id": "later-postage",
   "metadata": {},
   "outputs": [],
   "source": [
    "combined_data = dd.read_csv(output_directory + \"combined_data.csv/*\")"
   ]
  },
  {
   "cell_type": "code",
   "execution_count": 17,
   "id": "subjective-guatemala",
   "metadata": {},
   "outputs": [],
   "source": [
    "combined_data = combined_data.drop(['Unnamed: 0'], axis = 1)"
   ]
  },
  {
   "cell_type": "markdown",
   "id": "surgical-attack",
   "metadata": {},
   "source": [
    "## EDA in R"
   ]
  },
  {
   "cell_type": "code",
   "execution_count": null,
   "id": "interesting-marathon",
   "metadata": {},
   "outputs": [],
   "source": []
  },
  {
   "cell_type": "code",
   "execution_count": null,
   "id": "commercial-cabin",
   "metadata": {},
   "outputs": [],
   "source": [
    "\n"
   ]
  },
  {
   "cell_type": "code",
   "execution_count": null,
   "id": "automatic-cheat",
   "metadata": {},
   "outputs": [],
   "source": []
  },
  {
   "cell_type": "code",
   "execution_count": null,
   "id": "resistant-living",
   "metadata": {},
   "outputs": [],
   "source": []
  }
 ],
 "metadata": {
  "kernelspec": {
   "display_name": "Python [conda env:525]",
   "language": "python",
   "name": "conda-env-525-py"
  },
  "language_info": {
   "codemirror_mode": {
    "name": "ipython",
    "version": 3
   },
   "file_extension": ".py",
   "mimetype": "text/x-python",
   "name": "python",
   "nbconvert_exporter": "python",
   "pygments_lexer": "ipython3",
   "version": "3.9.2"
  }
 },
 "nbformat": 4,
 "nbformat_minor": 5
}
