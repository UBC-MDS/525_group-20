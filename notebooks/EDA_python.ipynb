{
 "cells": [
  {
   "cell_type": "markdown",
   "id": "mobile-optimum",
   "metadata": {},
   "source": [
    "## 5. EDA with python"
   ]
  },
  {
   "cell_type": "code",
   "execution_count": 1,
   "id": "center-biology",
   "metadata": {},
   "outputs": [],
   "source": [
    "import re\n",
    "import os\n",
    "import glob\n",
    "import zipfile\n",
    "import requests\n",
    "from urllib.request import urlretrieve\n",
    "import json\n",
    "import pandas as pd"
   ]
  },
  {
   "cell_type": "code",
   "execution_count": 2,
   "id": "catholic-scholar",
   "metadata": {},
   "outputs": [],
   "source": [
    "%load_ext rpy2.ipython\n",
    "%load_ext memory_profiler"
   ]
  },
  {
   "cell_type": "markdown",
   "id": "crazy-budapest",
   "metadata": {},
   "source": [
    "### Load Data"
   ]
  },
  {
   "cell_type": "code",
   "execution_count": 3,
   "id": "opposite-vinyl",
   "metadata": {},
   "outputs": [
    {
     "name": "stdout",
     "output_type": "stream",
     "text": [
      "peak memory: 164.56 MiB, increment: 22.70 MiB\n",
      "1.03 s ± 0 ns per loop (mean ± std. dev. of 1 run, 1 loop each)\n"
     ]
    }
   ],
   "source": [
    "%%timeit -n 1 -r 1\n",
    "%%memit\n",
    "\n",
    "import dask.dataframe as dd\n",
    "\n",
    "combined_data = dd.read_csv(\"../data/combined_data.csv/*\")\n",
    "combined_data = combined_data.drop(combined_data.columns[[0, -1]], axis=1)"
   ]
  },
  {
   "cell_type": "code",
   "execution_count": 4,
   "id": "absolute-color",
   "metadata": {},
   "outputs": [
    {
     "name": "stdout",
     "output_type": "stream",
     "text": [
      "Index(['time', 'lat_min', 'lat_max', 'lon_min', 'lon_max', 'rain (mm/day)',\n",
      "       'model'],\n",
      "      dtype='object')\n"
     ]
    }
   ],
   "source": [
    "print(combined_data.columns)"
   ]
  },
  {
   "cell_type": "markdown",
   "id": "hybrid-sigma",
   "metadata": {},
   "source": [
    "### Method 1: Using Dask only"
   ]
  },
  {
   "cell_type": "markdown",
   "id": "smoking-academy",
   "metadata": {},
   "source": [
    "Find geographical range of all records and mean rainfall level"
   ]
  },
  {
   "cell_type": "code",
   "execution_count": 23,
   "id": "human-effort",
   "metadata": {},
   "outputs": [
    {
     "name": "stdout",
     "output_type": "stream",
     "text": [
      "Min lat_min is -33.1048\n",
      "Max lat_max is -31.9776\n",
      "Min lon_min is 146.9059\n",
      "Max lon_max is 148.2150\n",
      "Mean rainfall is 1.9018\n",
      "peak memory: 1403.47 MiB, increment: 1213.18 MiB\n",
      "6min 33s ± 0 ns per loop (mean ± std. dev. of 1 run, 1 loop each)\n"
     ]
    }
   ],
   "source": [
    "%%timeit -n 1 -r 1\n",
    "%%memit\n",
    "\n",
    "print(f\"Minimum lat_min is %0.4f\" % \n",
    "      combined_data['lat_min'].astype('float64').mean().compute())\n",
    "print(f\"Maximum lat_max is %0.4f\" % \n",
    "      combined_data['lat_max'].astype('float64').mean().compute())\n",
    "print(f\"Minimum lon_min is %0.4f\" % \n",
    "      combined_data['lon_min'].astype('float64').mean().compute())\n",
    "print(f\"Maximum lon_max is %0.4f\" % \n",
    "      combined_data['lon_max'].astype('float64').mean().compute())\n",
    "print(f\"Mean rainfall is %0.4f\" % \n",
    "      combined_data['rain (mm/day)'].astype('float64').mean().compute())"
   ]
  },
  {
   "cell_type": "markdown",
   "id": "quality-tablet",
   "metadata": {},
   "source": [
    "### Method 2: Using Dask and change datatypes"
   ]
  },
  {
   "cell_type": "markdown",
   "id": "constitutional-protest",
   "metadata": {},
   "source": [
    "#### Default datatypes:"
   ]
  },
  {
   "cell_type": "code",
   "execution_count": 13,
   "id": "loaded-frontier",
   "metadata": {},
   "outputs": [
    {
     "name": "stdout",
     "output_type": "stream",
     "text": [
      "time             object\n",
      "lat_min          object\n",
      "lat_max          object\n",
      "lon_min          object\n",
      "lon_max          object\n",
      "rain (mm/day)    object\n",
      "model            object\n",
      "dtype: object\n"
     ]
    }
   ],
   "source": [
    "print(combined_data.dtypes)"
   ]
  },
  {
   "cell_type": "markdown",
   "id": "twenty-purse",
   "metadata": {},
   "source": [
    "#### Changing to `float32`:"
   ]
  },
  {
   "cell_type": "code",
   "execution_count": 25,
   "id": "flush-circumstances",
   "metadata": {},
   "outputs": [
    {
     "name": "stdout",
     "output_type": "stream",
     "text": [
      "Memory usage with 'object' dtype:\n",
      "Index                22016\n",
      "lat_max          500110904\n",
      "lat_min          500110904\n",
      "lon_max          500110904\n",
      "lon_min          500110904\n",
      "rain (mm/day)    500110904\n",
      "dtype: int64\n",
      "\n",
      "Memory usage after changing to float32:\n",
      "Index                22016\n",
      "lat_max          250055452\n",
      "lat_min          250055452\n",
      "lon_max          250055452\n",
      "lon_min          250055452\n",
      "rain (mm/day)    250055452\n",
      "dtype: int64\n"
     ]
    }
   ],
   "source": [
    "print(\"Memory usage with 'object' dtype:\")\n",
    "print(combined_data[['lat_min', 'lat_max', 'lon_min', 'lon_max', 'rain (mm/day)']].memory_usage().compute())\n",
    "\n",
    "combined_data[['lat_min', 'lat_max', 'lon_min', 'lon_max', 'rain (mm/day)']] = \\\n",
    "    combined_data[['lat_min', 'lat_max', 'lon_min', 'lon_max', 'rain (mm/day)']].astype('float32')\n",
    "    \n",
    "print(\"\\nMemory usage after changing to float32:\")\n",
    "print(combined_data[['lat_min', 'lat_max', 'lon_min', 'lon_max', 'rain (mm/day)']].memory_usage().compute())"
   ]
  },
  {
   "cell_type": "markdown",
   "id": "stuffed-madrid",
   "metadata": {},
   "source": [
    "#### Perform the same EDA with `float32`"
   ]
  },
  {
   "cell_type": "code",
   "execution_count": 30,
   "id": "mature-single",
   "metadata": {},
   "outputs": [
    {
     "name": "stdout",
     "output_type": "stream",
     "text": [
      "Minimum lat_min is -33.1048\n",
      "Maximum lat_max is -31.9776\n",
      "Minimum lon_min is 146.9059\n",
      "Maximum lon_max is 148.2150\n",
      "Mean rainfall is 1.9018\n",
      "peak memory: 1522.01 MiB, increment: 1335.64 MiB\n",
      "8min 16s ± 0 ns per loop (mean ± std. dev. of 1 run, 1 loop each)\n"
     ]
    }
   ],
   "source": [
    "%%timeit -n 1 -r 1\n",
    "%%memit\n",
    "\n",
    "print(f\"Minimum lat_min is %0.4f\" % \n",
    "      combined_data['lat_min'].mean().compute())\n",
    "print(f\"Maximum lat_max is %0.4f\" % \n",
    "      combined_data['lat_max'].mean().compute())\n",
    "print(f\"Minimum lon_min is %0.4f\" % \n",
    "      combined_data['lon_min'].mean().compute())\n",
    "print(f\"Maximum lon_max is %0.4f\" % \n",
    "      combined_data['lon_max'].mean().compute())\n",
    "print(f\"Mean rainfall is %0.4f\" % \n",
    "      combined_data['rain (mm/day)'].mean().compute())"
   ]
  },
  {
   "cell_type": "markdown",
   "id": "guided-blame",
   "metadata": {},
   "source": [
    "### Observation\n",
    "- Since the `combined_data` was stored into partitions with Dask, we had to load them with Dask also. \n",
    "- Using Dask to perform the EDA, the peak memory usage was around 1403MB, which isn't that high due to Dask's partitioning and parallel mechanism. It took around 6.5 minutes to process all 5 columns. \n",
    "- Originally, Dask saved all columns as `object` datatype. After changing the numeric columns to `float32`, the memory usage went from around 500MB each column to around 250MB each column. <br> \n",
    "- Performing the same EDA, the peak memory usage is around the same level ~1500MB. This is because `%memit` measures the memory usage of this operation, instead of the data size. So although the data size decreased, the memory stack occupied by this code cell didn't change much. The slight increase was probably due to other programs in the background affecting the memory I/O. "
   ]
  },
  {
   "cell_type": "code",
   "execution_count": null,
   "id": "nearby-timber",
   "metadata": {},
   "outputs": [],
   "source": []
  }
 ],
 "metadata": {
  "kernelspec": {
   "display_name": "Python 3",
   "language": "python",
   "name": "python3"
  },
  "language_info": {
   "codemirror_mode": {
    "name": "ipython",
    "version": 3
   },
   "file_extension": ".py",
   "mimetype": "text/x-python",
   "name": "python",
   "nbconvert_exporter": "python",
   "pygments_lexer": "ipython3",
   "version": "3.8.5"
  }
 },
 "nbformat": 4,
 "nbformat_minor": 5
}
